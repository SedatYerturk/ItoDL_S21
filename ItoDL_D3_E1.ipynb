{
  "nbformat": 4,
  "nbformat_minor": 0,
  "metadata": {
    "colab": {
      "name": "ItoDL_D3_E1.ipynb",
      "provenance": [],
      "authorship_tag": "ABX9TyOJ3tO2bn1YmaZpCDA3y8JM",
      "include_colab_link": true
    },
    "kernelspec": {
      "name": "python3",
      "display_name": "Python 3"
    },
    "language_info": {
      "name": "python"
    }
  },
  "cells": [
    {
      "cell_type": "markdown",
      "metadata": {
        "id": "view-in-github",
        "colab_type": "text"
      },
      "source": [
        "<a href=\"https://colab.research.google.com/github/SedatYerturk/ItoDL_S21/blob/main/ItoDL_D3_E1.ipynb\" target=\"_parent\"><img src=\"https://colab.research.google.com/assets/colab-badge.svg\" alt=\"Open In Colab\"/></a>"
      ]
    },
    {
      "cell_type": "markdown",
      "metadata": {
        "id": "gnLoliNWqTk0"
      },
      "source": [
        "**Classification with CIFAR-10 Dataset**"
      ]
    },
    {
      "cell_type": "code",
      "metadata": {
        "id": "NJLj_RrgqDq_"
      },
      "source": [
        "# Recommending to change runtime type to GPU for performance"
      ],
      "execution_count": 2,
      "outputs": []
    },
    {
      "cell_type": "code",
      "metadata": {
        "id": "RFn9KEWhqDt_"
      },
      "source": [
        "from tensorflow import keras"
      ],
      "execution_count": 1,
      "outputs": []
    },
    {
      "cell_type": "code",
      "metadata": {
        "colab": {
          "base_uri": "https://localhost:8080/"
        },
        "id": "orFbDzhTqDwy",
        "outputId": "0a711d62-0850-49a0-c142-fb1c6a7bb13c"
      },
      "source": [
        "#import data\n",
        "(train_images,train_labels),(test_images,test_labels) = keras.datasets.cifar10.load_data()"
      ],
      "execution_count": 3,
      "outputs": [
        {
          "output_type": "stream",
          "name": "stdout",
          "text": [
            "Downloading data from https://www.cs.toronto.edu/~kriz/cifar-10-python.tar.gz\n",
            "170500096/170498071 [==============================] - 4s 0us/step\n",
            "170508288/170498071 [==============================] - 4s 0us/step\n"
          ]
        }
      ]
    },
    {
      "cell_type": "code",
      "metadata": {
        "id": "K00voW_JqD0l"
      },
      "source": [
        "#scaling\n",
        "train_images, test_images = train_images / 255, test_images / 255"
      ],
      "execution_count": 4,
      "outputs": []
    },
    {
      "cell_type": "code",
      "metadata": {
        "id": "C39DdqLLqD3Q"
      },
      "source": [
        "from keras import layers, models, losses"
      ],
      "execution_count": 5,
      "outputs": []
    },
    {
      "cell_type": "code",
      "metadata": {
        "id": "VO5BylkBqD5-"
      },
      "source": [
        "#Create model\n",
        "model = models.Sequential()"
      ],
      "execution_count": 6,
      "outputs": []
    },
    {
      "cell_type": "code",
      "metadata": {
        "id": "cxarIbCDqD8L"
      },
      "source": [
        "#Create CNN Layers\n",
        "model.add(layers.Conv2D(32,(3,3),activation=\"relu\",input_shape=(32,32,3)))\n",
        "model.add(layers.MaxPooling2D())\n",
        "model.add(layers.Conv2D(64,(3,3),activation=\"relu\"))\n",
        "model.add(layers.MaxPooling2D())\n",
        "model.add(layers.Conv2D(64,(3,3),activation=\"relu\"))"
      ],
      "execution_count": 7,
      "outputs": []
    },
    {
      "cell_type": "code",
      "metadata": {
        "colab": {
          "base_uri": "https://localhost:8080/"
        },
        "id": "X3exI2Osr2Rl",
        "outputId": "5be0917f-31dc-4267-ec2a-e3383d365cc4"
      },
      "source": [
        "model.summary()"
      ],
      "execution_count": 12,
      "outputs": [
        {
          "output_type": "stream",
          "name": "stdout",
          "text": [
            "Model: \"sequential\"\n",
            "_________________________________________________________________\n",
            "Layer (type)                 Output Shape              Param #   \n",
            "=================================================================\n",
            "conv2d (Conv2D)              (None, 30, 30, 32)        896       \n",
            "_________________________________________________________________\n",
            "max_pooling2d (MaxPooling2D) (None, 15, 15, 32)        0         \n",
            "_________________________________________________________________\n",
            "conv2d_1 (Conv2D)            (None, 13, 13, 64)        18496     \n",
            "_________________________________________________________________\n",
            "max_pooling2d_1 (MaxPooling2 (None, 6, 6, 64)          0         \n",
            "_________________________________________________________________\n",
            "conv2d_2 (Conv2D)            (None, 4, 4, 64)          36928     \n",
            "_________________________________________________________________\n",
            "flatten (Flatten)            (None, 1024)              0         \n",
            "_________________________________________________________________\n",
            "dense (Dense)                (None, 64)                65600     \n",
            "_________________________________________________________________\n",
            "dense_1 (Dense)              (None, 10)                650       \n",
            "=================================================================\n",
            "Total params: 122,570\n",
            "Trainable params: 122,570\n",
            "Non-trainable params: 0\n",
            "_________________________________________________________________\n"
          ]
        }
      ]
    },
    {
      "cell_type": "code",
      "metadata": {
        "id": "W4CkzVPKqvgk"
      },
      "source": [
        "#Create Dense Layers\n",
        "model.add(layers.Flatten())\n",
        "model.add(layers.Dense(64,activation=\"relu\"))\n",
        "model.add(layers.Dense(10))"
      ],
      "execution_count": 8,
      "outputs": []
    },
    {
      "cell_type": "code",
      "metadata": {
        "colab": {
          "base_uri": "https://localhost:8080/"
        },
        "id": "EVdLN5H3sWq5",
        "outputId": "3a01c9f4-d4e4-4825-9ffb-9aec8d1f0955"
      },
      "source": [
        "model.summary()"
      ],
      "execution_count": 13,
      "outputs": [
        {
          "output_type": "stream",
          "name": "stdout",
          "text": [
            "Model: \"sequential\"\n",
            "_________________________________________________________________\n",
            "Layer (type)                 Output Shape              Param #   \n",
            "=================================================================\n",
            "conv2d (Conv2D)              (None, 30, 30, 32)        896       \n",
            "_________________________________________________________________\n",
            "max_pooling2d (MaxPooling2D) (None, 15, 15, 32)        0         \n",
            "_________________________________________________________________\n",
            "conv2d_1 (Conv2D)            (None, 13, 13, 64)        18496     \n",
            "_________________________________________________________________\n",
            "max_pooling2d_1 (MaxPooling2 (None, 6, 6, 64)          0         \n",
            "_________________________________________________________________\n",
            "conv2d_2 (Conv2D)            (None, 4, 4, 64)          36928     \n",
            "_________________________________________________________________\n",
            "flatten (Flatten)            (None, 1024)              0         \n",
            "_________________________________________________________________\n",
            "dense (Dense)                (None, 64)                65600     \n",
            "_________________________________________________________________\n",
            "dense_1 (Dense)              (None, 10)                650       \n",
            "=================================================================\n",
            "Total params: 122,570\n",
            "Trainable params: 122,570\n",
            "Non-trainable params: 0\n",
            "_________________________________________________________________\n"
          ]
        }
      ]
    },
    {
      "cell_type": "code",
      "metadata": {
        "id": "yvzqqlOMqvjp"
      },
      "source": [
        "#Compile Model\n",
        "model.compile(optimizer=\"adam\",\n",
        "loss=losses.SparseCategoricalCrossentropy(from_logits=True),\n",
        "metrics=[\"accuracy\"])"
      ],
      "execution_count": 9,
      "outputs": []
    },
    {
      "cell_type": "code",
      "metadata": {
        "id": "jA7Tj2-Qqvmv"
      },
      "source": [
        "from keras.preprocessing.image import ImageDataGenerator"
      ],
      "execution_count": 10,
      "outputs": []
    },
    {
      "cell_type": "code",
      "metadata": {
        "id": "LQyx1bgjqvpZ"
      },
      "source": [
        "# To increase our input data we use Image Augmentation\n",
        "datagen = ImageDataGenerator(\n",
        "rotation_range=40,\n",
        "width_shift_range=0.2,\n",
        "height_shift_range=0.2,\n",
        "shear_range=0.2,\n",
        "zoom_range=0.2,\n",
        "horizontal_flip=True,\n",
        "fill_mode='nearest'\n",
        ")"
      ],
      "execution_count": 14,
      "outputs": []
    },
    {
      "cell_type": "code",
      "metadata": {
        "id": "0kahGEwRsuPG"
      },
      "source": [
        "# Fit the train_images to datagen\n",
        "datagen.fit(train_images)"
      ],
      "execution_count": 15,
      "outputs": []
    },
    {
      "cell_type": "code",
      "metadata": {
        "colab": {
          "base_uri": "https://localhost:8080/"
        },
        "id": "AUU4QchRsuSb",
        "outputId": "a6a56369-94a5-4ef0-fc01-6d474ed19c27"
      },
      "source": [
        "model.fit(datagen.flow(train_images, train_labels),\n",
        "batch_size= 32, steps_per_epoch=len(train_images)/32,\n",
        "epochs=25, verbose=1)"
      ],
      "execution_count": null,
      "outputs": [
        {
          "output_type": "stream",
          "name": "stdout",
          "text": [
            "Epoch 1/25\n",
            "1562/1562 [==============================] - 90s 57ms/step - loss: 1.8301 - accuracy: 0.1064\n",
            "Epoch 2/25\n",
            "1562/1562 [==============================] - 89s 57ms/step - loss: 1.6021 - accuracy: 0.0967\n",
            "Epoch 3/25\n",
            "1562/1562 [==============================] - 89s 57ms/step - loss: 1.4912 - accuracy: 0.0952\n",
            "Epoch 4/25\n",
            "1562/1562 [==============================] - 93s 60ms/step - loss: 1.4263 - accuracy: 0.0933\n",
            "Epoch 5/25\n",
            "1562/1562 [==============================] - 90s 57ms/step - loss: 1.3720 - accuracy: 0.0974\n",
            "Epoch 6/25\n",
            "1562/1562 [==============================] - 89s 57ms/step - loss: 1.3325 - accuracy: 0.0957\n",
            "Epoch 7/25\n",
            "1562/1562 [==============================] - 88s 56ms/step - loss: 1.2963 - accuracy: 0.0991\n",
            "Epoch 8/25\n",
            "1562/1562 [==============================] - 89s 57ms/step - loss: 1.2732 - accuracy: 0.0987\n"
          ]
        }
      ]
    },
    {
      "cell_type": "code",
      "metadata": {
        "id": "BCTYV1_msuVR"
      },
      "source": [
        "#evaluate the model and get loss with accuracy metric\n",
        "loss = model.evaluate(datagen.flow(test_images, test_labels),batch_size=32)"
      ],
      "execution_count": null,
      "outputs": []
    },
    {
      "cell_type": "code",
      "metadata": {
        "id": "YBwq4UjaqvsB"
      },
      "source": [
        "prediction = model.predict(test_images)"
      ],
      "execution_count": null,
      "outputs": []
    },
    {
      "cell_type": "code",
      "metadata": {
        "id": "_4DgmbLYqvud"
      },
      "source": [
        "import matplotlib.pyplot as plt\n",
        "import numpy as np"
      ],
      "execution_count": null,
      "outputs": []
    },
    {
      "cell_type": "code",
      "metadata": {
        "id": "60SRQrpQs8fG"
      },
      "source": [
        "class_names=[\"airplane\",\"automobile\",\"bird\",\"cat\",\n",
        "\"deer\",\"dog\",\"frog\",\"horse\",\"ship\",\"truck\"]"
      ],
      "execution_count": null,
      "outputs": []
    },
    {
      "cell_type": "code",
      "metadata": {
        "id": "mH9tPsDKs8iC"
      },
      "source": [
        "INDEX=\"\"\n",
        "while INDEX.isdigit() == False:\n",
        "INDEX = input(\"Lütfen tahmin gerçekleştirmek istediğiniz indeksi girin: \")\n",
        "if int(INDEX)>=len(test_images):\n",
        "INDEX=\"\"\n",
        "INDEX = int(INDEX)\n",
        "predicted_value=class_names[np.argmax(prediction[INDEX])]\n",
        "actual_value= class_names[test_labels[INDEX][0]]\n",
        "print(f\"Real Value: {actual_value} - Predicted Value: {predicted_value}\")\n",
        "plt.figure()\n",
        "plt.imshow(test_images[INDEX])"
      ],
      "execution_count": null,
      "outputs": []
    },
    {
      "cell_type": "code",
      "metadata": {
        "id": "O3iFMeJKs8lc"
      },
      "source": [
        ""
      ],
      "execution_count": null,
      "outputs": []
    }
  ]
}