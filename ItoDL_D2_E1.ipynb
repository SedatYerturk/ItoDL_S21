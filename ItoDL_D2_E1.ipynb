{
  "nbformat": 4,
  "nbformat_minor": 0,
  "metadata": {
    "colab": {
      "name": "ItoDL_D2_E1.ipynb",
      "provenance": [],
      "authorship_tag": "ABX9TyOqT9mLK1niqXxgT1F3gIaI",
      "include_colab_link": true
    },
    "kernelspec": {
      "name": "python3",
      "display_name": "Python 3"
    },
    "language_info": {
      "name": "python"
    }
  },
  "cells": [
    {
      "cell_type": "markdown",
      "metadata": {
        "id": "view-in-github",
        "colab_type": "text"
      },
      "source": [
        "<a href=\"https://colab.research.google.com/github/SedatYerturk/ItoDL_S21/blob/main/ItoDL_D2_E1.ipynb\" target=\"_parent\"><img src=\"https://colab.research.google.com/assets/colab-badge.svg\" alt=\"Open In Colab\"/></a>"
      ]
    },
    {
      "cell_type": "code",
      "metadata": {
        "id": "Xgp9l2N7gTQ-"
      },
      "source": [
        "from tensorflow import keras\n",
        "import numpy as np\n",
        "from keras.models import Sequential\n",
        "from keras.layers.core import Dense"
      ],
      "execution_count": 26,
      "outputs": []
    },
    {
      "cell_type": "code",
      "metadata": {
        "id": "e5YfhsYLpUce"
      },
      "source": [
        "celcius_degree      = np.array([-40, -10, 0, 8, 15, 22, 38])\n",
        "fahrenheit_degree = np.array([-40, 14, 32, 46, 59, 72, 100 ])"
      ],
      "execution_count": 27,
      "outputs": []
    },
    {
      "cell_type": "code",
      "metadata": {
        "id": "SDM7dhYEp-ea"
      },
      "source": [
        "def TrainValidateModel():\n",
        "  model = keras.Sequential()\n",
        "  model.add(Dense(1))\n",
        "  model.compile(loss='mean_squared_error', optimizer=keras.optimizers.Adam(0.1))\n",
        "  model.fit(celcius_degree,  fahrenheit_degree, epochs=500, verbose=False)\n",
        "\n",
        "  return model"
      ],
      "execution_count": 28,
      "outputs": []
    },
    {
      "cell_type": "code",
      "metadata": {
        "id": "ye4o7zLAq7Rw"
      },
      "source": [
        "def ValidateModel(model, celcius_degree, fahrenheit_degree):\n",
        "  predictions = model.predict(celcius_degree)\n",
        "  for idx in range(len(predictions)):\n",
        "      print(f' {celcius_degree[idx]})] C degree -> Prediction Fahreniet Value - Actual Fahreniet Value: {prediction[idx] } F - [ { fahrenheit_degree[idx] } F' )"
      ],
      "execution_count": 29,
      "outputs": []
    },
    {
      "cell_type": "code",
      "metadata": {
        "id": "suWDFWKSstx9"
      },
      "source": [
        "def PredictCelcius(model, celcius_degree):\n",
        "    return model.predict(np.array([celcius_degree]))"
      ],
      "execution_count": 30,
      "outputs": []
    },
    {
      "cell_type": "code",
      "metadata": {
        "id": "_cKR9ZGWtDJv"
      },
      "source": [
        "model = TrainValidateModel()"
      ],
      "execution_count": 31,
      "outputs": []
    },
    {
      "cell_type": "code",
      "metadata": {
        "colab": {
          "base_uri": "https://localhost:8080/"
        },
        "id": "M3VTrVNjtrR6",
        "outputId": "4da04b1c-3d95-4742-f76f-8bad08cbd5ad"
      },
      "source": [
        "model"
      ],
      "execution_count": 32,
      "outputs": [
        {
          "output_type": "execute_result",
          "data": {
            "text/plain": [
              "<keras.engine.sequential.Sequential at 0x7f9606281710>"
            ]
          },
          "metadata": {},
          "execution_count": 32
        }
      ]
    },
    {
      "cell_type": "code",
      "metadata": {
        "colab": {
          "base_uri": "https://localhost:8080/"
        },
        "id": "bP7Ww6WOtyTf",
        "outputId": "881c2ef1-73e7-442a-8c1a-42d78b14b8c0"
      },
      "source": [
        "prediction_celcius = int(input('Please enter the C value you want to predict of its F'))\n",
        "print(PredictCelcius(model, prediction_celcius))"
      ],
      "execution_count": 39,
      "outputs": [
        {
          "output_type": "stream",
          "name": "stdout",
          "text": [
            "Please enter the C value you want to predict of its F500\n",
            "[[940.6908]]\n"
          ]
        }
      ]
    },
    {
      "cell_type": "code",
      "metadata": {
        "colab": {
          "base_uri": "https://localhost:8080/"
        },
        "id": "frjGTlNqvBMj",
        "outputId": "24d42852-d39a-43dd-aee5-1a9efaf47c70"
      },
      "source": [
        "model.weights"
      ],
      "execution_count": 40,
      "outputs": [
        {
          "output_type": "execute_result",
          "data": {
            "text/plain": [
              "[<tf.Variable 'dense_3/kernel:0' shape=(1, 1) dtype=float32, numpy=array([[1.8234348]], dtype=float32)>,\n",
              " <tf.Variable 'dense_3/bias:0' shape=(1,) dtype=float32, numpy=array([28.973364], dtype=float32)>]"
            ]
          },
          "metadata": {},
          "execution_count": 40
        }
      ]
    }
  ]
}